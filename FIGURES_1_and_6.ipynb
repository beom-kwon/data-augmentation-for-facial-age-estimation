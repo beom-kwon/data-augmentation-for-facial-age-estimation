{
 "cells": [
  {
   "cell_type": "code",
   "execution_count": null,
   "id": "8f7084b6-79a5-42eb-a6e9-ae997b35ef56",
   "metadata": {},
   "outputs": [],
   "source": [
    "import matplotlib.pyplot as plt\n",
    "import numpy as np\n",
    "import os\n",
    "\n",
    "\n",
    "data = np.load(file=os.getcwd() + \"\\\\FGNET\\\\npz\\\\fgnet.npz\")\n",
    "x = data['x']\n",
    "y = data['y']\n",
    "pid = data[\"pid\"]"
   ]
  },
  {
   "cell_type": "code",
   "execution_count": null,
   "id": "96ca4f9d-6ad9-4a8f-8efb-ffe5a053f4dc",
   "metadata": {},
   "outputs": [],
   "source": [
    "def VisualizeCounts(arr, xaxis_name):\n",
    "    pos, height = np.unique(arr, return_counts=True)\n",
    "    plt.rc(\"font\", size=14)\n",
    "    plt.figure()\n",
    "    plt.bar(pos, height, color=\"royalblue\",)\n",
    "    plt.xlabel(xaxis_name)\n",
    "    plt.ylabel(\"The Number of Samples\")  # Count\n",
    "    plt.grid(True)\n",
    "    plt.show()\n",
    "\n",
    "VisualizeCounts(y, \"Age\")"
   ]
  },
  {
   "cell_type": "code",
   "execution_count": null,
   "id": "3bab9bc3-f2ea-4ea5-870c-d5c52368055c",
   "metadata": {},
   "outputs": [],
   "source": [
    "def VisualizeCounts(arr, xaxis_name):\n",
    "    pos, height = np.unique(arr, return_counts=True)\n",
    "    plt.figure()\n",
    "    plt.bar(pos, height, color=\"tomato\")\n",
    "    plt.xlabel(xaxis_name)\n",
    "    plt.ylabel(\"The Number of Samples\")  # Count\n",
    "    plt.yticks(range(0, 19, 2), range(0, 19, 2))\n",
    "    plt.grid(True)\n",
    "    plt.show()\n",
    "\n",
    "VisualizeCounts(pid, \"Person ID\")"
   ]
  }
 ],
 "metadata": {
  "kernelspec": {
   "display_name": "Python [conda env:base] *",
   "language": "python",
   "name": "conda-base-py"
  },
  "language_info": {
   "codemirror_mode": {
    "name": "ipython",
    "version": 3
   },
   "file_extension": ".py",
   "mimetype": "text/x-python",
   "name": "python",
   "nbconvert_exporter": "python",
   "pygments_lexer": "ipython3",
   "version": "3.11.13"
  }
 },
 "nbformat": 4,
 "nbformat_minor": 5
}
