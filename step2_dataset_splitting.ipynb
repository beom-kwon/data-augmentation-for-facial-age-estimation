{
 "cells": [
  {
   "cell_type": "code",
   "execution_count": null,
   "id": "e3425295-2c8f-461a-9793-4a721dd699e6",
   "metadata": {},
   "outputs": [],
   "source": [
    "import numpy as np\n",
    "import os\n",
    "\n",
    "from sklearn.model_selection import LeaveOneGroupOut  # for Leave One Person Out(LOPO)\n",
    "\n",
    "\n",
    "data = np.load(file=os.getcwd() + \"\\\\FGNET\\\\npz\\\\fgnet.npz\")\n",
    "x = data['x']\n",
    "y = data['y']\n",
    "pid = data[\"pid\"]\n",
    "\n",
    "lopo = LeaveOneGroupOut()\n",
    "\n",
    "# The Number of Splitting Iterations in the Cross-Validator\n",
    "n_iter = lopo.get_n_splits(groups=pid)\n",
    "for j, (train_index, test_index) in enumerate(lopo.split(x, y, groups=pid)):\n",
    "    print(\"Fold: %2d out of %d\" % (j + 1, n_iter))\n",
    "\n",
    "    y_train = y[train_index]\n",
    "    y_test = y[test_index]\n",
    "\n",
    "    pid_train = pid[train_index]\n",
    "    pid_test = pid[test_index]\n",
    "    \n",
    "    x_train = x[train_index, :, :]  # dtype=uint8\n",
    "    x_test = x[test_index, :, :]    # dtype=uint8\n",
    "\n",
    "    np.savez_compressed(file=os.getcwd() + \"\\\\FGNET\\\\npz\\\\fgnet_lopo%02d.npz\" % (j + 1), \n",
    "                        x_train=x_train, x_test=x_test, \n",
    "                        y_train=y_train, y_test=y_test,\n",
    "                        pid_train=pid_train, pid_test=pid_test)"
   ]
  }
 ],
 "metadata": {
  "kernelspec": {
   "display_name": "Python [conda env:base] *",
   "language": "python",
   "name": "conda-base-py"
  },
  "language_info": {
   "codemirror_mode": {
    "name": "ipython",
    "version": 3
   },
   "file_extension": ".py",
   "mimetype": "text/x-python",
   "name": "python",
   "nbconvert_exporter": "python",
   "pygments_lexer": "ipython3",
   "version": "3.11.13"
  }
 },
 "nbformat": 4,
 "nbformat_minor": 5
}
